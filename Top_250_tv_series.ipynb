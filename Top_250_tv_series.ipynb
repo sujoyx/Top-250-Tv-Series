{
 "cells": [
  {
   "cell_type": "code",
   "execution_count": 1,
   "id": "3e6cd139",
   "metadata": {},
   "outputs": [],
   "source": [
    "from bs4 import BeautifulSoup\n",
    "import requests\n",
    "import openpyxl"
   ]
  },
  {
   "cell_type": "code",
   "execution_count": 3,
   "id": "b12506b5",
   "metadata": {
    "scrolled": false
   },
   "outputs": [],
   "source": [
    "excel= openpyxl.Workbook()\n",
    "sheet= excel.active\n",
    "sheet.append(['Movie Rank', 'Movie Name', 'Year Of Release', 'IMD Rating'])\n",
    "\n",
    "url=requests.get('https://www.imdb.com/chart/toptv/') \n",
    "soup= BeautifulSoup(url.text, 'html.parser')\n",
    "movies= soup.find('tbody', class_=\"lister-list\").find_all('tr')\n",
    "\n",
    "for movie in movies:\n",
    "    rank=movie.find('td',class_=\"titleColumn\").get_text(strip=True).split('.')[0] \n",
    "    name= movie.find('td',class_=\"titleColumn\").a.text\n",
    "    year= movie.find('td',class_=\"titleColumn\").span.text.strip('()')\n",
    "    rating= movie.find('td',class_=\"ratingColumn imdbRating\").strong.text\n",
    "    \n",
    "    info=[rank, name, year, rating]\n",
    "    sheet.append(info)\n",
    "\n",
    "excel.save('Top Tv Serise.xlsx')    \n",
    "\n",
    "        "
   ]
  }
 ],
 "metadata": {
  "kernelspec": {
   "display_name": "Python 3 (ipykernel)",
   "language": "python",
   "name": "python3"
  },
  "language_info": {
   "codemirror_mode": {
    "name": "ipython",
    "version": 3
   },
   "file_extension": ".py",
   "mimetype": "text/x-python",
   "name": "python",
   "nbconvert_exporter": "python",
   "pygments_lexer": "ipython3",
   "version": "3.9.12"
  }
 },
 "nbformat": 4,
 "nbformat_minor": 5
}
